{
 "cells": [
  {
   "cell_type": "code",
   "execution_count": 2,
   "id": "7ddd658c",
   "metadata": {},
   "outputs": [
    {
     "name": "stderr",
     "output_type": "stream",
     "text": [
      "Generating train split: 100%|██████████| 172782/172782 [00:00<00:00, 1611655.50 examples/s]\n"
     ]
    }
   ],
   "source": [
    "from datasets import load_dataset\n",
    "database = load_dataset(\"Maximax67/English-Valid-Words\", \"sorted_by_frequency\")"
   ]
  },
  {
   "cell_type": "code",
   "execution_count": 14,
   "id": "56b5bcf5",
   "metadata": {},
   "outputs": [],
   "source": [
    "import pandas as pd\n",
    "df = pd.DataFrame(database['train'])\n",
    "df = df.drop(columns=['Stem', 'Stem valid probability'])\n",
    "summation = df[\"Frequency count\"].sum()\n",
    "df[\"possiblity\"] = df[\"Frequency count\"].apply(lambda x: x/summation)"
   ]
  },
  {
   "cell_type": "code",
   "execution_count": null,
   "id": "e24d5619",
   "metadata": {},
   "outputs": [
    {
     "data": {
      "text/plain": [
       "array([[ 81,  79,  78, ..., 219, 219, 219],\n",
       "       [ 78,  75,  73, ..., 219, 219, 219],\n",
       "       [ 74,  71,  69, ..., 219, 219, 219],\n",
       "       ...,\n",
       "       [188, 188, 188, ..., 167, 174, 183],\n",
       "       [188, 188, 188, ..., 172, 176, 183],\n",
       "       [188, 188, 188, ..., 177, 176, 176]],\n",
       "      shape=(6720, 4480), dtype=uint8)"
      ]
     },
     "execution_count": 21,
     "metadata": {},
     "output_type": "execute_result"
    }
   ],
   "source": [
    "import cv2\n",
    "from glob import glob\n",
    "import random\n",
    "image_path = random.choice(glob('images/*'))\n",
    "image = cv2.imread(image_path, cv2.IMREAD_GRAYSCALE)"
   ]
  },
  {
   "cell_type": "code",
   "execution_count": 23,
   "id": "658fe3db",
   "metadata": {},
   "outputs": [
    {
     "data": {
      "text/plain": [
       "array([[0, 0, 0, ..., 0, 0, 0],\n",
       "       [0, 0, 0, ..., 0, 0, 0],\n",
       "       [0, 0, 0, ..., 0, 0, 0],\n",
       "       ...,\n",
       "       [0, 0, 0, ..., 0, 0, 0],\n",
       "       [0, 0, 0, ..., 0, 0, 0],\n",
       "       [0, 0, 0, ..., 0, 0, 0]], shape=(6720, 4480), dtype=uint8)"
      ]
     },
     "execution_count": 23,
     "metadata": {},
     "output_type": "execute_result"
    }
   ],
   "source": [
    "edges = cv2.Canny(image, threshold1=100, threshold2=200)\n",
    "edges"
   ]
  },
  {
   "cell_type": "code",
   "execution_count": 24,
   "id": "0110cad0",
   "metadata": {},
   "outputs": [],
   "source": [
    "cv2.imshow('Edges', edges)\n",
    "cv2.waitKey(0)\n",
    "cv2.destroyAllWindows()"
   ]
  },
  {
   "cell_type": "code",
   "execution_count": 30,
   "id": "18c5250f",
   "metadata": {},
   "outputs": [
    {
     "ename": "IndentationError",
     "evalue": "expected an indented block after function definition on line 24 (image_handler.py, line 25)",
     "output_type": "error",
     "traceback": [
      "Traceback \u001b[36m(most recent call last)\u001b[39m:\n",
      "  File \u001b[92m~/Documents/Github/OCR/TextGen/.textgenvenv/lib/python3.12/site-packages/IPython/core/interactiveshell.py:3667\u001b[39m in \u001b[95mrun_code\u001b[39m\n    exec(code_obj, self.user_global_ns, self.user_ns)\n",
      "\u001b[36m  \u001b[39m\u001b[36mCell\u001b[39m\u001b[36m \u001b[39m\u001b[32mIn[30]\u001b[39m\u001b[32m, line 3\u001b[39m\n\u001b[31m    \u001b[39m\u001b[31mfrom image_handler import ImageHandler\u001b[39m\n",
      "  \u001b[36mFile \u001b[39m\u001b[32m~/Documents/Github/OCR/TextGen/test/../image_handler.py:25\u001b[39m\n\u001b[31m    \u001b[39m\u001b[31mreturn cv2.imread(path)\u001b[39m\n    ^\n\u001b[31mIndentationError\u001b[39m\u001b[31m:\u001b[39m expected an indented block after function definition on line 24\n"
     ]
    }
   ],
   "source": [
    "import sys\n",
    "sys.path.append('..')\n",
    "from image_handler import ImageHandler\n"
   ]
  },
  {
   "cell_type": "code",
   "execution_count": 29,
   "id": "fe55e1c4",
   "metadata": {},
   "outputs": [
    {
     "name": "stdout",
     "output_type": "stream",
     "text": [
      "ls: ../image_handler.py: No such file or directory\n"
     ]
    }
   ],
   "source": [
    "!ls ../image_handler.py"
   ]
  },
  {
   "cell_type": "code",
   "execution_count": null,
   "id": "23ac6f99",
   "metadata": {},
   "outputs": [],
   "source": []
  }
 ],
 "metadata": {
  "kernelspec": {
   "display_name": ".textgenvenv",
   "language": "python",
   "name": "python3"
  },
  "language_info": {
   "codemirror_mode": {
    "name": "ipython",
    "version": 3
   },
   "file_extension": ".py",
   "mimetype": "text/x-python",
   "name": "python",
   "nbconvert_exporter": "python",
   "pygments_lexer": "ipython3",
   "version": "3.12.7"
  }
 },
 "nbformat": 4,
 "nbformat_minor": 5
}
